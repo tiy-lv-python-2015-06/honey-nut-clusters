{
 "cells": [
  {
   "cell_type": "code",
   "execution_count": 209,
   "metadata": {
    "collapsed": true
   },
   "outputs": [],
   "source": [
    "import pandas as pd\n",
    "import matplotlib.pyplot as plot\n",
    "import numpy as np\n",
    "from sklearn import preprocessing\n",
    "%matplotlib inline\n",
    "from sklearn.decomposition import PCA\n",
    "from sklearn.cluster import KMeans"
   ]
  },
  {
   "cell_type": "code",
   "execution_count": 210,
   "metadata": {
    "collapsed": false,
    "scrolled": true
   },
   "outputs": [],
   "source": [
    "df = pd.read_csv(\"cereals.csv\", na_values=-1)\n"
   ]
  },
  {
   "cell_type": "code",
   "execution_count": 211,
   "metadata": {
    "collapsed": false
   },
   "outputs": [],
   "source": [
    "df2 = df.copy()\n"
   ]
  },
  {
   "cell_type": "code",
   "execution_count": 212,
   "metadata": {
    "collapsed": false,
    "scrolled": true
   },
   "outputs": [],
   "source": [
    "normalize_list = ['calories','protein', 'fat', 'sodium', 'fiber', 'carbo','sugars','potass', 'vitamins', 'cups'] "
   ]
  },
  {
   "cell_type": "code",
   "execution_count": 213,
   "metadata": {
    "collapsed": false
   },
   "outputs": [
    {
     "data": {
      "text/html": [
       "<div style=\"max-height:1000px;max-width:1500px;overflow:auto;\">\n",
       "<table border=\"1\" class=\"dataframe\">\n",
       "  <thead>\n",
       "    <tr style=\"text-align: right;\">\n",
       "      <th></th>\n",
       "      <th>name</th>\n",
       "      <th>mfr</th>\n",
       "      <th>type</th>\n",
       "      <th>calories</th>\n",
       "      <th>protein</th>\n",
       "      <th>fat</th>\n",
       "      <th>sodium</th>\n",
       "      <th>fiber</th>\n",
       "      <th>carbo</th>\n",
       "      <th>sugars</th>\n",
       "      <th>potass</th>\n",
       "      <th>vitamins</th>\n",
       "      <th>shelf</th>\n",
       "      <th>weight</th>\n",
       "      <th>cups</th>\n",
       "    </tr>\n",
       "  </thead>\n",
       "  <tbody>\n",
       "    <tr>\n",
       "      <th>0</th>\n",
       "      <td>100%_Bran</td>\n",
       "      <td>N</td>\n",
       "      <td>C</td>\n",
       "      <td>70</td>\n",
       "      <td>4</td>\n",
       "      <td>1</td>\n",
       "      <td>130</td>\n",
       "      <td>10</td>\n",
       "      <td>5</td>\n",
       "      <td>6</td>\n",
       "      <td>280</td>\n",
       "      <td>25</td>\n",
       "      <td>3</td>\n",
       "      <td>1</td>\n",
       "      <td>0.33</td>\n",
       "    </tr>\n",
       "    <tr>\n",
       "      <th>1</th>\n",
       "      <td>100%_Natural_Bran</td>\n",
       "      <td>Q</td>\n",
       "      <td>C</td>\n",
       "      <td>120</td>\n",
       "      <td>3</td>\n",
       "      <td>5</td>\n",
       "      <td>15</td>\n",
       "      <td>2</td>\n",
       "      <td>8</td>\n",
       "      <td>8</td>\n",
       "      <td>135</td>\n",
       "      <td>0</td>\n",
       "      <td>3</td>\n",
       "      <td>1</td>\n",
       "      <td>1.00</td>\n",
       "    </tr>\n",
       "    <tr>\n",
       "      <th>2</th>\n",
       "      <td>All-Bran</td>\n",
       "      <td>K</td>\n",
       "      <td>C</td>\n",
       "      <td>70</td>\n",
       "      <td>4</td>\n",
       "      <td>1</td>\n",
       "      <td>260</td>\n",
       "      <td>9</td>\n",
       "      <td>7</td>\n",
       "      <td>5</td>\n",
       "      <td>320</td>\n",
       "      <td>25</td>\n",
       "      <td>3</td>\n",
       "      <td>1</td>\n",
       "      <td>0.33</td>\n",
       "    </tr>\n",
       "    <tr>\n",
       "      <th>3</th>\n",
       "      <td>All-Bran_with_Extra_Fiber</td>\n",
       "      <td>K</td>\n",
       "      <td>C</td>\n",
       "      <td>50</td>\n",
       "      <td>4</td>\n",
       "      <td>0</td>\n",
       "      <td>140</td>\n",
       "      <td>14</td>\n",
       "      <td>8</td>\n",
       "      <td>0</td>\n",
       "      <td>330</td>\n",
       "      <td>25</td>\n",
       "      <td>3</td>\n",
       "      <td>1</td>\n",
       "      <td>0.50</td>\n",
       "    </tr>\n",
       "    <tr>\n",
       "      <th>4</th>\n",
       "      <td>Almond_Delight</td>\n",
       "      <td>R</td>\n",
       "      <td>C</td>\n",
       "      <td>110</td>\n",
       "      <td>2</td>\n",
       "      <td>2</td>\n",
       "      <td>200</td>\n",
       "      <td>1</td>\n",
       "      <td>14</td>\n",
       "      <td>8</td>\n",
       "      <td>NaN</td>\n",
       "      <td>25</td>\n",
       "      <td>3</td>\n",
       "      <td>1</td>\n",
       "      <td>0.75</td>\n",
       "    </tr>\n",
       "  </tbody>\n",
       "</table>\n",
       "</div>"
      ],
      "text/plain": [
       "                        name mfr type  calories  protein  fat  sodium  fiber  \\\n",
       "0                  100%_Bran   N    C        70        4    1     130     10   \n",
       "1          100%_Natural_Bran   Q    C       120        3    5      15      2   \n",
       "2                   All-Bran   K    C        70        4    1     260      9   \n",
       "3  All-Bran_with_Extra_Fiber   K    C        50        4    0     140     14   \n",
       "4             Almond_Delight   R    C       110        2    2     200      1   \n",
       "\n",
       "   carbo  sugars  potass  vitamins  shelf  weight  cups  \n",
       "0      5       6     280        25      3       1  0.33  \n",
       "1      8       8     135         0      3       1  1.00  \n",
       "2      7       5     320        25      3       1  0.33  \n",
       "3      8       0     330        25      3       1  0.50  \n",
       "4     14       8     NaN        25      3       1  0.75  "
      ]
     },
     "execution_count": 213,
     "metadata": {},
     "output_type": "execute_result"
    }
   ],
   "source": [
    "df2.head()"
   ]
  },
  {
   "cell_type": "code",
   "execution_count": 214,
   "metadata": {
    "collapsed": false
   },
   "outputs": [],
   "source": [
    "df2.loc[(df2[\"potass\"].isnull()), \"potass\"] = df2.potass.median()\n",
    "df2.loc[(df2[\"carbo\"].isnull()), \"carbo\"] = df2.carbo.median()\n",
    "df2.loc[(df2[\"sugars\"].isnull()), \"sugars\"] = df2.sugars.median()"
   ]
  },
  {
   "cell_type": "code",
   "execution_count": 215,
   "metadata": {
    "collapsed": false,
    "scrolled": true
   },
   "outputs": [],
   "source": [
    "for col in df2.ix[:,normalize_list].columns:\n",
    "        df2[col] = (df2[col] * (1/ df2['cups']))"
   ]
  },
  {
   "cell_type": "code",
   "execution_count": 216,
   "metadata": {
    "collapsed": true
   },
   "outputs": [],
   "source": [
    "cereals = df2.copy()\n",
    "cereals.drop(['name'], 1, inplace=True)"
   ]
  },
  {
   "cell_type": "code",
   "execution_count": 217,
   "metadata": {
    "collapsed": true
   },
   "outputs": [],
   "source": [
    "#Get dummy fields\n",
    "cereals = pd.get_dummies(cereals, columns=['mfr','type'])"
   ]
  },
  {
   "cell_type": "code",
   "execution_count": 218,
   "metadata": {
    "collapsed": false
   },
   "outputs": [],
   "source": [
    "pca = PCA(n_components=2)\n",
    "pca.fit(cereals)\n",
    "reduced_cereals = pca.transform(cereals)"
   ]
  },
  {
   "cell_type": "code",
   "execution_count": 219,
   "metadata": {
    "collapsed": false
   },
   "outputs": [],
   "source": [
    "kmeans = KMeans(n_clusters=4, max_iter=20)\n",
    "y_pred = kmeans.fit_predict(cereals[normalize_list])"
   ]
  },
  {
   "cell_type": "code",
   "execution_count": 220,
   "metadata": {
    "collapsed": false,
    "scrolled": true
   },
   "outputs": [
    {
     "data": {
      "image/png": "[encoded data removed]",
      "text/plain": [
       "<matplotlib.figure.Figure at 0x115f8ae80>"
      ]
     },
     "metadata": {},
     "output_type": "display_data"
    }
   ],
   "source": [
    "plot.scatter(reduced_cereals[:, 0], reduced_cereals[:, 1])\n",
    "plot.title(\"\")\n",
    "plot.show()"
   ]
  },
  {
   "cell_type": "code",
   "execution_count": 221,
   "metadata": {
    "collapsed": false
   },
   "outputs": [
    {
     "data": {
      "image/png": "[encoded data removed]",
      "text/plain": [
       "<matplotlib.figure.Figure at 0x11636f6d8>"
      ]
     },
     "metadata": {},
     "output_type": "display_data"
    }
   ],
   "source": [
    "plot.scatter(reduced_cereals[:, 0], reduced_cereals[:, 1], c=y_pred, cmap=\"hot\")\n",
    "plot.title(\"Cereals Kmean Clusters\")\n",
    "plot.show()"
   ]
  },
  {
   "cell_type": "code",
   "execution_count": 222,
   "metadata": {
    "collapsed": false,
    "scrolled": true
   },
   "outputs": [],
   "source": [
    "group = list(zip(df2['name'], y_pred))\n",
    "group = pd.DataFrame(group)\n",
    "group.rename(columns={0: 'names', 1: 'groups'}, inplace=True)\n",
    "cereals = cereals.join(group)\n",
    "cereals_pivot = cereals.pivot_table(columns='groups', values=normalize_list)"
   ]
  },
  {
   "cell_type": "code",
   "execution_count": 223,
   "metadata": {
    "collapsed": false
   },
   "outputs": [
    {
     "data": {
      "image/png": "[encoded data removed]",
      "text/plain": [
       "<matplotlib.figure.Figure at 0x116acb668>"
      ]
     },
     "metadata": {},
     "output_type": "display_data"
    }
   ],
   "source": [
    "cereals_pivot.plot(kind='bar', figsize=(10, 10))\n",
    "plot.xlabel('Things(?)')\n",
    "plot.ylabel('Amount')\n",
    "plot.title('Cereal Nutrition')\n",
    "plot.show()"
   ]
  },
  {
   "cell_type": "markdown",
   "metadata": {
    "collapsed": true
   },
   "source": [
    "#Conclusions"
   ]
  },
  {
   "cell_type": "markdown",
   "metadata": {},
   "source": [
    "##Group 1 is cereals kids don't like but parents think are healty. Kix and Lfe and the other stuff you'd try to get your friends to eat so you could have more of the good stuff. The exception being Fruity Pebbles. How they ended up here, I don't know."
   ]
  },
  {
   "cell_type": "code",
   "execution_count": 224,
   "metadata": {
    "collapsed": false
   },
   "outputs": [
    {
     "name": "stdout",
     "output_type": "stream",
     "text": [
      "['Almond_Delight' 'Apple_Cinnamon_Cheerios' 'Apple_Jacks' 'Basic_4'\n",
      " \"Cap'n'Crunch\" 'Cheerios' 'Cinnamon_Toast_Crunch' 'Cocoa_Puffs'\n",
      " 'Corn_Chex' 'Corn_Flakes' 'Count_Chocula' 'Crispix'\n",
      " 'Crispy_Wheat_&_Raisins' 'Double_Chex' 'Froot_Loops' 'Frosted_Flakes'\n",
      " 'Fruity_Pebbles' 'Golden_Grahams' 'Grape_Nuts_Flakes' 'Honey_Graham_Ohs'\n",
      " 'Honey_Nut_Cheerios' 'Honey-comb' 'Just_Right_Crunchy__Nuggets'\n",
      " 'Just_Right_Fruit_&_Nut' 'Kix' 'Life' 'Lucky_Charms'\n",
      " 'Muesli_Raisins,_Peaches,_&_Pecans' 'Multi-Grain_Cheerios'\n",
      " 'Nut&Honey_Crunch' 'Nutri-grain_Wheat' 'Product_19' 'Rice_Chex'\n",
      " 'Rice_Krispies' 'Special_K' 'Total_Corn_Flakes' 'Total_Whole_Grain'\n",
      " 'Triples' 'Trix' 'Wheaties' 'Wheaties_Honey_Gold']\n"
     ]
    }
   ],
   "source": [
    "print(cereals[cereals['groups'] == 0]['names'].get_values())"
   ]
  },
  {
   "cell_type": "markdown",
   "metadata": {},
   "source": [
    "##Group 0 is the Adventous old person's cereal. It contains such tasty treats as Bran_chex, and Raisin nut bran. It pairs best with prune juice and wearing socks with sandles."
   ]
  },
  {
   "cell_type": "code",
   "execution_count": 225,
   "metadata": {
    "collapsed": false
   },
   "outputs": [
    {
     "name": "stdout",
     "output_type": "stream",
     "text": [
      "['Bran_Chex' 'Bran_Flakes' 'Clusters' \"Cracklin'_Oat_Bran\"\n",
      " 'Fruit_&_Fibre_Dates,_Walnuts,_and_Oats' 'Fruitful_Bran' 'Grape-Nuts'\n",
      " 'Great_Grains_Pecan' 'Mueslix_Crispy_Blend' 'Nutri-Grain_Almond-Raisin'\n",
      " 'Oatmeal_Raisin_Crisp' 'Post_Nat._Raisin_Bran' 'Quaker_Oat_Squares'\n",
      " 'Raisin_Bran' 'Raisin_Nut_Bran' 'Total_Raisin_Bran' 'Wheat_Chex']\n"
     ]
    }
   ],
   "source": [
    "print(cereals[cereals['groups'] == 1]['names'].get_values())"
   ]
  },
  {
   "cell_type": "markdown",
   "metadata": {},
   "source": [
    "##Group 2 is the straight-up Bran group.  So much bran no other cereals want to be near it"
   ]
  },
  {
   "cell_type": "code",
   "execution_count": 226,
   "metadata": {
    "collapsed": false
   },
   "outputs": [
    {
     "name": "stdout",
     "output_type": "stream",
     "text": [
      "['100%_Bran' 'All-Bran' 'All-Bran_with_Extra_Fiber']\n"
     ]
    }
   ],
   "source": [
    "print(cereals[cereals['groups'] == 2]['names'].get_values())"
   ]
  },
  {
   "cell_type": "markdown",
   "metadata": {},
   "source": [
    "##Group 3 Is the Kids group. Count Chocula, cinnamon toast crunch, cocoa puffs. This is where it is at. with the exception of some crappy special K, this is a good group"
   ]
  },
  {
   "cell_type": "code",
   "execution_count": 227,
   "metadata": {
    "collapsed": false
   },
   "outputs": [
    {
     "name": "stdout",
     "output_type": "stream",
     "text": [
      "['100%_Natural_Bran' 'Corn_Pops' 'Cream_of_Wheat_(Quick)'\n",
      " 'Frosted_Mini-Wheats' 'Golden_Crisp' 'Maypo'\n",
      " 'Muesli_Raisins,_Dates,_&_Almonds' 'Puffed_Rice' 'Puffed_Wheat'\n",
      " 'Quaker_Oatmeal' 'Raisin_Squares' 'Shredded_Wheat'\n",
      " \"Shredded_Wheat_'n'Bran\" 'Shredded_Wheat_spoon_size' 'Smacks'\n",
      " 'Strawberry_Fruit_Wheats']\n"
     ]
    }
   ],
   "source": [
    "print(cereals[cereals['groups'] == 3]['names'].get_values())"
   ]
  },
  {
   "cell_type": "code",
   "execution_count": null,
   "metadata": {
    "collapsed": true
   },
   "outputs": [],
   "source": []
  },
  {
   "cell_type": "code",
   "execution_count": null,
   "metadata": {
    "collapsed": true
   },
   "outputs": [],
   "source": []
  }
 ],
 "metadata": {
  "kernelspec": {
   "display_name": "Python 3",
   "language": "python",
   "name": "python3"
  },
  "language_info": {
   "codemirror_mode": {
    "name": "ipython",
    "version": 3
   },
   "file_extension": ".py",
   "mimetype": "text/x-python",
   "name": "python",
   "nbconvert_exporter": "python",
   "pygments_lexer": "ipython3",
   "version": "3.4.3"
  }
 },
 "nbformat": 4,
 "nbformat_minor": 0
}
