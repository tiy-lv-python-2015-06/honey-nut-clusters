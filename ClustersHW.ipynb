{
 "cells": [
  {
   "cell_type": "code",
   "execution_count": 1,
   "metadata": {
    "collapsed": true
   },
   "outputs": [],
   "source": [
    "%matplotlib inline\n",
    "import pandas as pd\n",
    "import numpy as np\n",
    "from sklearn.decomposition import PCA\n",
    "from sklearn.cluster import KMeans\n",
    "from sklearn.metrics import accuracy_score, confusion_matrix\n",
    "\n",
    "import matplotlib.pyplot as plt"
   ]
  },
  {
   "cell_type": "code",
   "execution_count": 2,
   "metadata": {
    "collapsed": false
   },
   "outputs": [],
   "source": [
    "replace_list = [-1]\n",
    "cereal_data_no_index = pd.read_csv(\"cereals.csv\", header=0, na_values=replace_list)"
   ]
  },
  {
   "cell_type": "code",
   "execution_count": 3,
   "metadata": {
    "collapsed": true
   },
   "outputs": [],
   "source": [
    "cereal_data_no_index['multiplier'] = 1 / cereal_data_no_index['cups']\n",
    "\n",
    "cereal_data_no_index.loc[(cereal_data_no_index[\"potass\"].isnull()), \"potass\"] = cereal_data_no_index.potass.median()\n",
    "cereal_data_no_index.loc[(cereal_data_no_index[\"carbo\"].isnull()), \"carbo\"] = cereal_data_no_index.carbo.median()\n",
    "cereal_data_no_index.loc[(cereal_data_no_index[\"sugars\"].isnull()), \"sugars\"] = cereal_data_no_index.sugars.median()"
   ]
  },
  {
   "cell_type": "code",
   "execution_count": 4,
   "metadata": {
    "collapsed": false
   },
   "outputs": [],
   "source": [
    "for column in cereal_data_no_index.ix[:, 3:12].columns:\n",
    "    cereal_data_no_index[column + '_weighted'] = cereal_data_no_index[column] * cereal_data_no_index['multiplier']"
   ]
  },
  {
   "cell_type": "code",
   "execution_count": 5,
   "metadata": {
    "collapsed": false
   },
   "outputs": [
    {
     "name": "stdout",
     "output_type": "stream",
     "text": [
      "<class 'pandas.core.frame.DataFrame'>\n",
      "Int64Index: 77 entries, 0 to 76\n",
      "Data columns (total 25 columns):\n",
      "name                 77 non-null object\n",
      "mfr                  77 non-null object\n",
      "type                 77 non-null object\n",
      "calories             77 non-null int64\n",
      "protein              77 non-null int64\n",
      "fat                  77 non-null int64\n",
      "sodium               77 non-null int64\n",
      "fiber                77 non-null float64\n",
      "carbo                77 non-null float64\n",
      "sugars               77 non-null float64\n",
      "potass               77 non-null float64\n",
      "vitamins             77 non-null int64\n",
      "shelf                77 non-null int64\n",
      "weight               77 non-null float64\n",
      "cups                 77 non-null float64\n",
      "multiplier           77 non-null float64\n",
      "calories_weighted    77 non-null float64\n",
      "protein_weighted     77 non-null float64\n",
      "fat_weighted         77 non-null float64\n",
      "sodium_weighted      77 non-null float64\n",
      "fiber_weighted       77 non-null float64\n",
      "carbo_weighted       77 non-null float64\n",
      "sugars_weighted      77 non-null float64\n",
      "potass_weighted      77 non-null float64\n",
      "vitamins_weighted    77 non-null float64\n",
      "dtypes: float64(16), int64(6), object(3)\n",
      "memory usage: 15.6+ KB\n"
     ]
    }
   ],
   "source": [
    "cereal_data_no_index.info()"
   ]
  },
  {
   "cell_type": "code",
   "execution_count": 6,
   "metadata": {
    "collapsed": false
   },
   "outputs": [],
   "source": [
    "cereal_data_copy = cereal_data_no_index.copy()\n",
    "cereal_data_copy.drop(['name'], 1, inplace=True)\n",
    "cereal_data_copy = pd.get_dummies(cereal_data_copy, columns=['mfr','type'])"
   ]
  },
  {
   "cell_type": "code",
   "execution_count": 7,
   "metadata": {
    "collapsed": false
   },
   "outputs": [],
   "source": [
    "pca = PCA(n_components=2)\n",
    "pca.fit(cereal_data_copy)\n",
    "reduced_X = pca.transform(cereal_data_copy)"
   ]
  },
  {
   "cell_type": "code",
   "execution_count": 8,
   "metadata": {
    "collapsed": true
   },
   "outputs": [],
   "source": [
    "kmeans = KMeans(3)\n",
    "y_pred = kmeans.fit_predict(cereal_data_copy.ix[:, 16:25])"
   ]
  },
  {
   "cell_type": "code",
   "execution_count": 9,
   "metadata": {
    "collapsed": false
   },
   "outputs": [
    {
     "name": "stdout",
     "output_type": "stream",
     "text": [
      "[[  2.67547952e+02   2.94141483e+00   2.06837327e+01   9.99750292e+00\n",
      "    1.43519264e+02   4.33564196e+01  -1.73472348e-18   3.86363636e-01\n",
      "    2.95454545e-01]\n",
      " [  5.35454545e+02   2.43939394e+01   3.00909091e+01   1.13333333e+01\n",
      "    7.09545455e+02   7.53787879e+01   0.00000000e+00   0.00000000e+00\n",
      "    5.00000000e-01]\n",
      " [  8.64562857e+01   1.72310470e+00   1.58881328e+01   8.11019692e+00\n",
      "    8.68597718e+01   2.20758106e+01   3.44827586e-02   1.72413793e-01\n",
      "    2.75862069e-01]]\n"
     ]
    },
    {
     "data": {
      "image/png": "[encoded data removed]",
      "text/plain": [
       "<matplotlib.figure.Figure at 0x10fb28160>"
      ]
     },
     "metadata": {},
     "output_type": "display_data"
    }
   ],
   "source": [
    "print(kmeans.cluster_centers_)\n",
    "plt.scatter(kmeans.cluster_centers_[:,0], kmeans.cluster_centers_[:,1], alpha=.5, s=250)\n",
    "plt.scatter(reduced_X[:, 0], reduced_X[:, 1], c=y_pred, cmap=\"hot\")\n",
    "plt.title(\"Clusters of Cereal Nutrition\")\n",
    "plt.show()"
   ]
  },
  {
   "cell_type": "code",
   "execution_count": 10,
   "metadata": {
    "collapsed": false
   },
   "outputs": [],
   "source": [
    "#There seems to be three areas of clusters but one of them is very spread out and looks out of place.  \n",
    "#The cluster centers seem out of place too."
   ]
  },
  {
   "cell_type": "code",
   "execution_count": null,
   "metadata": {
    "collapsed": true
   },
   "outputs": [],
   "source": []
  }
 ],
 "metadata": {
  "kernelspec": {
   "display_name": "Python 3",
   "language": "python",
   "name": "python3"
  },
  "language_info": {
   "codemirror_mode": {
    "name": "ipython",
    "version": 3
   },
   "file_extension": ".py",
   "mimetype": "text/x-python",
   "name": "python",
   "nbconvert_exporter": "python",
   "pygments_lexer": "ipython3",
   "version": "3.4.3"
  }
 },
 "nbformat": 4,
 "nbformat_minor": 0
}
